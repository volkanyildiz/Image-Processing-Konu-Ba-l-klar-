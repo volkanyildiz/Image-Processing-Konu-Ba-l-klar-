{
 "cells": [
  {
   "cell_type": "code",
   "execution_count": 10,
   "metadata": {},
   "outputs": [],
   "source": [
    "import numpy as np\n",
    "import matplotlib.pyplot as plt\n",
    "import random as random"
   ]
  },
  {
   "cell_type": "code",
   "execution_count": 11,
   "metadata": {},
   "outputs": [],
   "source": [
    "#d) A şıkkında yazdığınız fonksiyonu kullanarak 100 farklı matris elde edip birinci \n",
    "#üretilen ile diğerlerini karşılaştırıp(distance) yakınlığını ve benzerliğini listeleyiniz\n",
    "#100 tane A daki fonk çağır ordaki 100 tanesini 1. ile karşılaştır"
   ]
  },
  {
   "cell_type": "code",
   "execution_count": 12,
   "metadata": {},
   "outputs": [],
   "source": [
    "#28x28 boyutunda matris üretip içeriği rastgele 0 veya 1 ata\n",
    "def my_create_m():\n",
    "    return np.random.randint(0,2,(28,28))"
   ]
  },
  {
   "cell_type": "code",
   "execution_count": 13,
   "metadata": {},
   "outputs": [],
   "source": [
    "#28x28'lik matrisi parametre alan MBR dörgeni üreten fonksiyon\n",
    "def MBR_create_28_by_28_with_0_1(matris_a):\n",
    "    m=matris_a.shape[0]\n",
    "    n=matris_a.shape[1]\n",
    "    x_min=m\n",
    "    x_max=0\n",
    "    y_min=n\n",
    "    y_max=0\n",
    "    for i in range(m):\n",
    "        for j in range(n):\n",
    "            if(matris_a[i,j]==1):\n",
    "                if (x_min>i):\n",
    "                    x_min=i                          \n",
    "                if (x_max<i):\n",
    "                    x_max=i\n",
    "                if (y_min>j):\n",
    "                    y_min=j\n",
    "                if (y_max<j):\n",
    "                    y_max=j\n",
    "    return (x_min,x_max,y_min,y_max)"
   ]
  },
  {
   "cell_type": "code",
   "execution_count": 14,
   "metadata": {},
   "outputs": [],
   "source": [
    "#Kendisine aktarılan iki vektörün benzerliğini return eden fonksiyon\n",
    "def get_similarity(character_a,character_b):\n",
    "    m=character_a.shape[0]\n",
    "    n=character_a.shape[1]\n",
    "    my_similarity=0\n",
    "    for i in range(m):\n",
    "        for j in range(n):\n",
    "            my_similarity=my_similarity+character_a[i,j]*character_b[i,j]\n",
    "    return my_similarity"
   ]
  },
  {
   "cell_type": "code",
   "execution_count": 15,
   "metadata": {},
   "outputs": [],
   "source": [
    "#28x28'lik matrisi 100 tane üretip benzerliklerin diziye yazan fonksiyon\n",
    "def get_similarity_for_100_characters():\n",
    "    dizi=[]\n",
    "    for i in range(100):\n",
    "        new_dizi=my_create_m()\n",
    "        dizi.append(new_dizi)\n",
    "    for i in range(100):\n",
    "        benzerlik=get_similarity(dizi[0],dizi[i])\n",
    "    return benzerlik"
   ]
  },
  {
   "cell_type": "code",
   "execution_count": 17,
   "metadata": {},
   "outputs": [
    {
     "name": "stdout",
     "output_type": "stream",
     "text": [
      "En Yüksek Benzerlik :  220\n"
     ]
    },
    {
     "data": {
      "image/png": "[encoded data removed]",
      "text/plain": [
       "<Figure size 432x288 with 1 Axes>"
      ]
     },
     "metadata": {},
     "output_type": "display_data"
    },
    {
     "data": {
      "image/png": "[encoded data removed]",
      "text/plain": [
       "<Figure size 432x288 with 1 Axes>"
      ]
     },
     "metadata": {},
     "output_type": "display_data"
    },
    {
     "name": "stdout",
     "output_type": "stream",
     "text": [
      "209\n"
     ]
    }
   ],
   "source": [
    "a=my_create_m()\n",
    "benzerlik_max=0\n",
    "c=np.zeros((28,28))\n",
    "for i in range(100):\n",
    "    b=my_create_m()\n",
    "    if(get_similarity(a,b)>benzerlik_max):\n",
    "        benzerlik_max=get_similarity(a,b)\n",
    "        c=b\n",
    "        \n",
    "print(\"En Yüksek Benzerlik : \",benzerlik_max)\n",
    "plt.imshow(a,interpolation='nearest',cmap='gray')\n",
    "plt.show()\n",
    "plt.imshow(c,interpolation='nearest',cmap='gray')\n",
    "plt.show()\n",
    "    \n",
    "print(get_similarity_for_100_characters())\n"
   ]
  },
  {
   "cell_type": "code",
   "execution_count": 21,
   "metadata": {},
   "outputs": [
    {
     "name": "stdout",
     "output_type": "stream",
     "text": [
      "[[0 0 1 1 1 1 0 0 0 0 0 0 0 1 1 0 0 0 0 1 0 1 1 1 0 1 1 1]\n",
      " [0 1 1 0 1 0 0 1 0 0 0 1 0 1 0 0 1 1 1 0 0 0 1 0 0 1 0 0]\n",
      " [0 0 1 1 0 1 1 0 1 0 1 0 1 1 1 1 0 1 0 1 0 0 0 1 1 0 0 1]\n",
      " [1 0 1 0 1 1 1 1 0 1 0 0 0 0 0 0 0 1 1 1 0 1 0 0 0 0 1 0]\n",
      " [1 0 0 1 1 1 1 0 0 0 0 1 1 1 0 0 0 0 1 1 0 1 1 1 0 1 1 1]\n",
      " [1 0 1 1 0 0 0 1 0 1 1 1 0 1 0 1 0 1 0 0 1 0 0 1 1 0 1 0]\n",
      " [1 1 1 0 0 0 1 1 0 0 1 0 1 1 0 0 0 1 1 1 0 0 0 0 1 0 0 0]\n",
      " [1 0 0 1 1 0 0 0 1 1 0 0 1 1 0 0 1 1 0 1 0 0 0 0 0 0 0 1]\n",
      " [1 1 1 0 1 0 0 0 1 0 1 1 1 0 0 0 0 0 0 0 1 0 0 0 0 1 1 1]\n",
      " [0 0 0 1 0 0 1 1 0 1 0 1 1 0 0 1 1 0 1 0 1 0 0 1 0 1 1 1]\n",
      " [1 0 0 1 1 1 1 0 0 1 0 0 0 1 1 1 1 1 0 0 0 1 1 1 1 0 0 1]\n",
      " [1 0 0 0 0 1 0 1 0 1 1 0 1 0 1 1 1 1 1 0 1 0 0 1 0 0 1 1]\n",
      " [1 0 0 1 0 1 0 1 1 0 0 1 1 1 1 1 1 1 1 0 0 1 0 1 0 1 1 0]\n",
      " [1 1 1 1 1 0 0 0 1 1 1 0 1 0 1 0 1 1 1 1 0 1 1 1 0 1 0 1]\n",
      " [0 0 1 0 1 1 1 0 1 1 1 1 0 1 1 1 1 0 0 0 0 1 0 1 0 1 1 0]\n",
      " [1 0 1 0 0 0 0 0 1 1 0 1 0 0 1 0 0 0 0 0 0 0 1 0 0 1 0 1]\n",
      " [1 0 1 1 1 0 1 1 0 0 1 0 0 0 1 1 0 0 0 1 0 1 0 1 0 1 0 1]\n",
      " [1 0 1 1 1 1 0 0 0 1 0 0 1 1 1 0 1 1 0 1 1 1 0 0 1 0 0 1]\n",
      " [1 0 1 1 0 0 0 1 1 1 1 1 0 1 0 1 1 0 0 1 1 0 0 0 1 1 0 1]\n",
      " [0 1 0 0 0 0 0 0 1 0 0 1 1 0 1 1 0 0 1 1 0 0 0 1 1 1 1 0]\n",
      " [1 1 1 1 0 1 1 1 1 1 1 1 1 1 1 0 1 1 0 0 1 1 0 1 0 0 1 0]\n",
      " [0 0 1 1 1 0 1 0 1 1 1 0 0 0 0 0 0 0 1 0 0 1 1 0 0 1 1 1]\n",
      " [1 0 0 0 0 0 1 0 0 0 0 1 1 0 0 0 0 0 1 0 0 0 0 0 0 0 1 1]\n",
      " [1 0 1 1 1 0 1 0 0 1 1 0 0 0 0 1 0 1 1 0 0 1 1 1 0 0 0 1]\n",
      " [0 0 1 0 1 0 1 0 1 1 0 0 1 0 1 1 0 0 0 0 0 1 0 1 1 0 1 0]\n",
      " [0 0 1 0 0 1 0 1 0 1 0 0 0 0 0 1 1 1 0 1 1 1 0 1 0 0 1 1]\n",
      " [1 0 1 0 1 0 0 1 1 0 1 0 1 0 1 1 0 1 1 0 0 0 1 1 1 1 0 1]\n",
      " [0 1 1 0 1 1 0 1 1 0 1 0 1 1 1 1 0 1 1 1 0 1 0 1 1 0 1 1]]\n",
      "MBR= (0, 27, 0, 27)\n",
      "benzerlik= 206\n"
     ]
    }
   ],
   "source": [
    "print(my_create_m())\n",
    "print(\"MBR=\",MBR_create_28_by_28_with_0_1(my_create_m()))\n",
    "a_1=my_create_m()\n",
    "a_2=my_create_m()\n",
    "print(\"benzerlik=\",get_similarity(a_1,a_2))"
   ]
  },
  {
   "cell_type": "code",
   "execution_count": null,
   "metadata": {},
   "outputs": [],
   "source": []
  }
 ],
 "metadata": {
  "kernelspec": {
   "display_name": "Python 3",
   "language": "python",
   "name": "python3"
  },
  "language_info": {
   "codemirror_mode": {
    "name": "ipython",
    "version": 3
   },
   "file_extension": ".py",
   "mimetype": "text/x-python",
   "name": "python",
   "nbconvert_exporter": "python",
   "pygments_lexer": "ipython3",
   "version": "3.6.5"
  }
 },
 "nbformat": 4,
 "nbformat_minor": 2
}
